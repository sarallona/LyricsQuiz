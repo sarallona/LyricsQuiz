{
  "nbformat": 4,
  "nbformat_minor": 0,
  "metadata": {
    "colab": {
      "name": "LyricsQuiz.ipynb",
      "provenance": [],
      "authorship_tag": "ABX9TyOBCwHajTG/k85acErAGCpR",
      "include_colab_link": true
    },
    "kernelspec": {
      "name": "python3",
      "display_name": "Python 3"
    }
  },
  "cells": [
    {
      "cell_type": "markdown",
      "metadata": {
        "id": "view-in-github",
        "colab_type": "text"
      },
      "source": [
        "<a href=\"https://colab.research.google.com/github/sarallona/LyricsQuiz/blob/master/LyricsQuiz.ipynb\" target=\"_parent\"><img src=\"https://colab.research.google.com/assets/colab-badge.svg\" alt=\"Open In Colab\"/></a>"
      ]
    },
    {
      "cell_type": "code",
      "metadata": {
        "id": "IjNvU2FHy5OI",
        "colab_type": "code",
        "colab": {
          "base_uri": "https://localhost:8080/",
          "height": 854
        },
        "outputId": "c783be7f-1ac1-4c9f-ebf8-f0f13342a900"
      },
      "source": [
        "questions = [\"\\n🎶I believe I can ___🎶\\n\",\n",
        "             \"\\n🎶All I ____ for Christmas is you🎶\\n\",\n",
        "             \"\\n🎶If you liked it, then you should have put a ____ on it🎶\\n\",\n",
        "             \"\\n🎶Somewhere over the _______🎶\\n\",\n",
        "             \"\\n🎶I knew you were _______ when you walked in🎶\\n\"]\n",
        "\n",
        "answers = [\"fly\", \"want\", \"ring\", \"rainbow\", \"trouble\"]\n",
        "\n",
        "positive_comments = [\"Wow! You are good!\", \"Nice! Keep it up!\", \"Correct!\", \"Amazing! Almost there!\", \"PERFECT!!\"]\n",
        "other_comments = [\"Wrong!\", \"Incorrect!\", \"Try harder next time!\", \"Oops! You're wrong.\", \"Too bad.\"]\n",
        "correct = 0\n",
        "user_ans = []\n",
        "i = 0\n",
        "score = 0\n",
        "#print(len(questions))\n",
        "\n",
        "print(\"Music Quiz\")\n",
        "print(\"Take this quiz and guess the missing lyrics!\")\n",
        "\n",
        "name = input(\"Please enter your name:\\t\")\n",
        "print(\"\\nHi\" + \",\" + \" \" + name.title() + \"!\")\n",
        "\n",
        "def final_part(answers,score):\n",
        "      score = len(user_ans)\n",
        "      print(\"\\nYou got\", score, \"out of\", len(questions))\n",
        "      if score == len(questions):\n",
        "         print(\"\\nPerfect! You did a really great job!\")\n",
        "      elif score >= 3:\n",
        "          print(\"\\nNice score! Well done.\")\n",
        "      else:\n",
        "          print(\"\\nTry harder next time.\")\n",
        "\n",
        "def start_game(correct):\n",
        "    print(\"\\nYay! Let's start! Here's the first question.\")\n",
        "    while correct < 5:\n",
        "        print(\"\\n\" + str(questions[correct]))\n",
        "        player_answers = input(\"Your answer:\")\n",
        "        if player_answers.title() == answers[correct].title():\n",
        "          print(positive_comments[correct].title())\n",
        "          user_ans.append(1)\n",
        "          correct = correct + 1\n",
        "        else: \n",
        "          print(other_comments[correct].title())\n",
        "          correct = correct + 1\n",
        "\n",
        "choice = ''\n",
        "\n",
        "while choice != 'Bye':\n",
        "    print(\"\\nPlease type Go to start,\")\n",
        "    print(\"or Bye to quit.\")\n",
        "   \n",
        "    choice = input(\"\\nPlease choose.. \")\n",
        "    if choice == 'Go':\n",
        "      start_game(correct)\n",
        "    elif choice == 'Bye':\n",
        "        print(\"\\nSee you next time!\\n\")\n",
        "    else:\n",
        "        print(\"\\nI don't understand that choice, please try again.\\n\")\n",
        "    break\n",
        "\n",
        "final_part(answers,score)"
      ],
      "execution_count": 1,
      "outputs": [
        {
          "output_type": "stream",
          "text": [
            "Music Quiz\n",
            "Take this quiz and guess the missing lyrics!\n",
            "Please enter your name:\tSara\n",
            "\n",
            "Hi, Sara!\n",
            "\n",
            "Please type Go to start,\n",
            "or Bye to quit.\n",
            "\n",
            "Please choose.. Go\n",
            "\n",
            "Yay! Let's start! Here's the first question.\n",
            "\n",
            "\n",
            "🎶I believe I can ___🎶\n",
            "\n",
            "Your answer:fly\n",
            "Wow! You Are Good!\n",
            "\n",
            "\n",
            "🎶All I ____ for Christmas is you🎶\n",
            "\n",
            "Your answer:need\n",
            "Incorrect!\n",
            "\n",
            "\n",
            "🎶If you liked it, then you should have put a ____ on it🎶\n",
            "\n",
            "Your answer:crown\n",
            "Try Harder Next Time!\n",
            "\n",
            "\n",
            "🎶Somewhere over the _______🎶\n",
            "\n",
            "Your answer:rainbow\n",
            "Amazing! Almost There!\n",
            "\n",
            "\n",
            "🎶I knew you were _______ when you walked in🎶\n",
            "\n",
            "Your answer:trouble\n",
            "Perfect!!\n",
            "\n",
            "You got 3 out of 5\n",
            "\n",
            "Nice score! Well done.\n"
          ],
          "name": "stdout"
        }
      ]
    }
  ]
}